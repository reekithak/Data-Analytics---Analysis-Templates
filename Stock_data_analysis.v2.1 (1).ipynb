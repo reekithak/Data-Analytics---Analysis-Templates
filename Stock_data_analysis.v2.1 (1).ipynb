{
 "cells": [
  {
   "cell_type": "code",
   "execution_count": 216,
   "metadata": {},
   "outputs": [],
   "source": [
    "import pandas as pd\n",
    "import numpy as np "
   ]
  },
  {
   "cell_type": "code",
   "execution_count": 217,
   "metadata": {},
   "outputs": [],
   "source": [
    "csv = pd.read_excel(\"ne.xlsx\",sheet_name='NE')"
   ]
  },
  {
   "cell_type": "code",
   "execution_count": 218,
   "metadata": {},
   "outputs": [
    {
     "data": {
      "text/html": [
       "<div>\n",
       "<style scoped>\n",
       "    .dataframe tbody tr th:only-of-type {\n",
       "        vertical-align: middle;\n",
       "    }\n",
       "\n",
       "    .dataframe tbody tr th {\n",
       "        vertical-align: top;\n",
       "    }\n",
       "\n",
       "    .dataframe thead th {\n",
       "        text-align: right;\n",
       "    }\n",
       "</style>\n",
       "<table border=\"1\" class=\"dataframe\">\n",
       "  <thead>\n",
       "    <tr style=\"text-align: right;\">\n",
       "      <th></th>\n",
       "      <th>Part_Number</th>\n",
       "      <th>Description</th>\n",
       "      <th>Appl_Code</th>\n",
       "      <th>LLP_Non_LLP</th>\n",
       "      <th>Vendor</th>\n",
       "      <th>Condition</th>\n",
       "      <th>Dt</th>\n",
       "      <th>Qty</th>\n",
       "      <th>Sale</th>\n",
       "    </tr>\n",
       "  </thead>\n",
       "  <tbody>\n",
       "    <tr>\n",
       "      <th>0</th>\n",
       "      <td>10-62167-2</td>\n",
       "      <td>HYDRAULIC PUMP</td>\n",
       "      <td>CFM56-7</td>\n",
       "      <td>Non-LLP</td>\n",
       "      <td>KILLICK AEROSPACE LIMITED</td>\n",
       "      <td>NE</td>\n",
       "      <td>2020-02-11</td>\n",
       "      <td>1</td>\n",
       "      <td>0</td>\n",
       "    </tr>\n",
       "    <tr>\n",
       "      <th>1</th>\n",
       "      <td>10-62167-2</td>\n",
       "      <td>HYDRAULIC PUMP</td>\n",
       "      <td>CFM56-7</td>\n",
       "      <td>Non-LLP</td>\n",
       "      <td>KILLICK AEROSPACE LIMITED</td>\n",
       "      <td>NE</td>\n",
       "      <td>2020-02-12</td>\n",
       "      <td>1</td>\n",
       "      <td>0</td>\n",
       "    </tr>\n",
       "    <tr>\n",
       "      <th>2</th>\n",
       "      <td>10-62167-2</td>\n",
       "      <td>HYDRAULIC PUMP</td>\n",
       "      <td>CFM56-7</td>\n",
       "      <td>Non-LLP</td>\n",
       "      <td>KILLICK AEROSPACE LIMITED</td>\n",
       "      <td>NE</td>\n",
       "      <td>2020-02-13</td>\n",
       "      <td>1</td>\n",
       "      <td>0</td>\n",
       "    </tr>\n",
       "    <tr>\n",
       "      <th>3</th>\n",
       "      <td>10-62167-2</td>\n",
       "      <td>HYDRAULIC PUMP</td>\n",
       "      <td>CFM56-7</td>\n",
       "      <td>Non-LLP</td>\n",
       "      <td>KILLICK AEROSPACE LIMITED</td>\n",
       "      <td>NE</td>\n",
       "      <td>2020-02-14</td>\n",
       "      <td>1</td>\n",
       "      <td>0</td>\n",
       "    </tr>\n",
       "    <tr>\n",
       "      <th>4</th>\n",
       "      <td>10-62167-2</td>\n",
       "      <td>HYDRAULIC PUMP</td>\n",
       "      <td>CFM56-7</td>\n",
       "      <td>Non-LLP</td>\n",
       "      <td>KILLICK AEROSPACE LIMITED</td>\n",
       "      <td>NE</td>\n",
       "      <td>2020-02-15</td>\n",
       "      <td>1</td>\n",
       "      <td>0</td>\n",
       "    </tr>\n",
       "    <tr>\n",
       "      <th>...</th>\n",
       "      <td>...</td>\n",
       "      <td>...</td>\n",
       "      <td>...</td>\n",
       "      <td>...</td>\n",
       "      <td>...</td>\n",
       "      <td>...</td>\n",
       "      <td>...</td>\n",
       "      <td>...</td>\n",
       "      <td>...</td>\n",
       "    </tr>\n",
       "    <tr>\n",
       "      <th>158636</th>\n",
       "      <td>10-631045-2</td>\n",
       "      <td>IGNITION EXCITER</td>\n",
       "      <td>CFM56-7</td>\n",
       "      <td>Non-LLP</td>\n",
       "      <td>MITCHELL AIRCRAFT SPARES.</td>\n",
       "      <td>NE</td>\n",
       "      <td>2020-05-15</td>\n",
       "      <td>1</td>\n",
       "      <td>0</td>\n",
       "    </tr>\n",
       "    <tr>\n",
       "      <th>158637</th>\n",
       "      <td>10-631045-2</td>\n",
       "      <td>IGNITION EXCITER</td>\n",
       "      <td>CFM56-7</td>\n",
       "      <td>Non-LLP</td>\n",
       "      <td>MITCHELL AIRCRAFT SPARES.</td>\n",
       "      <td>NE</td>\n",
       "      <td>2020-05-16</td>\n",
       "      <td>1</td>\n",
       "      <td>0</td>\n",
       "    </tr>\n",
       "    <tr>\n",
       "      <th>158638</th>\n",
       "      <td>10-631045-2</td>\n",
       "      <td>IGNITION EXCITER</td>\n",
       "      <td>CFM56-7</td>\n",
       "      <td>Non-LLP</td>\n",
       "      <td>MITCHELL AIRCRAFT SPARES.</td>\n",
       "      <td>NE</td>\n",
       "      <td>2020-05-17</td>\n",
       "      <td>1</td>\n",
       "      <td>0</td>\n",
       "    </tr>\n",
       "    <tr>\n",
       "      <th>158639</th>\n",
       "      <td>10-631045-2</td>\n",
       "      <td>IGNITION EXCITER</td>\n",
       "      <td>CFM56-7</td>\n",
       "      <td>Non-LLP</td>\n",
       "      <td>MITCHELL AIRCRAFT SPARES.</td>\n",
       "      <td>NE</td>\n",
       "      <td>2020-05-18</td>\n",
       "      <td>1</td>\n",
       "      <td>0</td>\n",
       "    </tr>\n",
       "    <tr>\n",
       "      <th>158640</th>\n",
       "      <td>10-631045-2</td>\n",
       "      <td>IGNITION EXCITER</td>\n",
       "      <td>CFM56-7</td>\n",
       "      <td>Non-LLP</td>\n",
       "      <td>MITCHELL AIRCRAFT SPARES.</td>\n",
       "      <td>NE</td>\n",
       "      <td>2020-05-19</td>\n",
       "      <td>1</td>\n",
       "      <td>0</td>\n",
       "    </tr>\n",
       "  </tbody>\n",
       "</table>\n",
       "<p>158641 rows × 9 columns</p>\n",
       "</div>"
      ],
      "text/plain": [
       "        Part_Number       Description Appl_Code LLP_Non_LLP  \\\n",
       "0        10-62167-2    HYDRAULIC PUMP   CFM56-7     Non-LLP   \n",
       "1        10-62167-2    HYDRAULIC PUMP   CFM56-7     Non-LLP   \n",
       "2        10-62167-2    HYDRAULIC PUMP   CFM56-7     Non-LLP   \n",
       "3        10-62167-2    HYDRAULIC PUMP   CFM56-7     Non-LLP   \n",
       "4        10-62167-2    HYDRAULIC PUMP   CFM56-7     Non-LLP   \n",
       "...             ...               ...       ...         ...   \n",
       "158636  10-631045-2  IGNITION EXCITER   CFM56-7     Non-LLP   \n",
       "158637  10-631045-2  IGNITION EXCITER   CFM56-7     Non-LLP   \n",
       "158638  10-631045-2  IGNITION EXCITER   CFM56-7     Non-LLP   \n",
       "158639  10-631045-2  IGNITION EXCITER   CFM56-7     Non-LLP   \n",
       "158640  10-631045-2  IGNITION EXCITER   CFM56-7     Non-LLP   \n",
       "\n",
       "                           Vendor Condition         Dt  Qty  Sale  \n",
       "0       KILLICK AEROSPACE LIMITED        NE 2020-02-11    1     0  \n",
       "1       KILLICK AEROSPACE LIMITED        NE 2020-02-12    1     0  \n",
       "2       KILLICK AEROSPACE LIMITED        NE 2020-02-13    1     0  \n",
       "3       KILLICK AEROSPACE LIMITED        NE 2020-02-14    1     0  \n",
       "4       KILLICK AEROSPACE LIMITED        NE 2020-02-15    1     0  \n",
       "...                           ...       ...        ...  ...   ...  \n",
       "158636  MITCHELL AIRCRAFT SPARES.        NE 2020-05-15    1     0  \n",
       "158637  MITCHELL AIRCRAFT SPARES.        NE 2020-05-16    1     0  \n",
       "158638  MITCHELL AIRCRAFT SPARES.        NE 2020-05-17    1     0  \n",
       "158639  MITCHELL AIRCRAFT SPARES.        NE 2020-05-18    1     0  \n",
       "158640  MITCHELL AIRCRAFT SPARES.        NE 2020-05-19    1     0  \n",
       "\n",
       "[158641 rows x 9 columns]"
      ]
     },
     "execution_count": 218,
     "metadata": {},
     "output_type": "execute_result"
    }
   ],
   "source": [
    "csv"
   ]
  },
  {
   "cell_type": "code",
   "execution_count": 219,
   "metadata": {},
   "outputs": [],
   "source": [
    "#csv.sort_values(['Part_Number','Vendor'],inplace=True)"
   ]
  },
  {
   "cell_type": "code",
   "execution_count": 220,
   "metadata": {},
   "outputs": [
    {
     "data": {
      "text/html": [
       "<div>\n",
       "<style scoped>\n",
       "    .dataframe tbody tr th:only-of-type {\n",
       "        vertical-align: middle;\n",
       "    }\n",
       "\n",
       "    .dataframe tbody tr th {\n",
       "        vertical-align: top;\n",
       "    }\n",
       "\n",
       "    .dataframe thead th {\n",
       "        text-align: right;\n",
       "    }\n",
       "</style>\n",
       "<table border=\"1\" class=\"dataframe\">\n",
       "  <thead>\n",
       "    <tr style=\"text-align: right;\">\n",
       "      <th></th>\n",
       "      <th>Part_Number</th>\n",
       "      <th>Vendor</th>\n",
       "    </tr>\n",
       "  </thead>\n",
       "  <tbody>\n",
       "    <tr>\n",
       "      <th>0</th>\n",
       "      <td>10-62167-2</td>\n",
       "      <td>KILLICK AEROSPACE LIMITED</td>\n",
       "    </tr>\n",
       "    <tr>\n",
       "      <th>1</th>\n",
       "      <td>10-62167-2</td>\n",
       "      <td>KILLICK AEROSPACE LIMITED</td>\n",
       "    </tr>\n",
       "    <tr>\n",
       "      <th>2</th>\n",
       "      <td>10-62167-2</td>\n",
       "      <td>KILLICK AEROSPACE LIMITED</td>\n",
       "    </tr>\n",
       "    <tr>\n",
       "      <th>3</th>\n",
       "      <td>10-62167-2</td>\n",
       "      <td>KILLICK AEROSPACE LIMITED</td>\n",
       "    </tr>\n",
       "    <tr>\n",
       "      <th>4</th>\n",
       "      <td>10-62167-2</td>\n",
       "      <td>KILLICK AEROSPACE LIMITED</td>\n",
       "    </tr>\n",
       "    <tr>\n",
       "      <th>...</th>\n",
       "      <td>...</td>\n",
       "      <td>...</td>\n",
       "    </tr>\n",
       "    <tr>\n",
       "      <th>158636</th>\n",
       "      <td>10-631045-2</td>\n",
       "      <td>MITCHELL AIRCRAFT SPARES.</td>\n",
       "    </tr>\n",
       "    <tr>\n",
       "      <th>158637</th>\n",
       "      <td>10-631045-2</td>\n",
       "      <td>MITCHELL AIRCRAFT SPARES.</td>\n",
       "    </tr>\n",
       "    <tr>\n",
       "      <th>158638</th>\n",
       "      <td>10-631045-2</td>\n",
       "      <td>MITCHELL AIRCRAFT SPARES.</td>\n",
       "    </tr>\n",
       "    <tr>\n",
       "      <th>158639</th>\n",
       "      <td>10-631045-2</td>\n",
       "      <td>MITCHELL AIRCRAFT SPARES.</td>\n",
       "    </tr>\n",
       "    <tr>\n",
       "      <th>158640</th>\n",
       "      <td>10-631045-2</td>\n",
       "      <td>MITCHELL AIRCRAFT SPARES.</td>\n",
       "    </tr>\n",
       "  </tbody>\n",
       "</table>\n",
       "<p>158641 rows × 2 columns</p>\n",
       "</div>"
      ],
      "text/plain": [
       "        Part_Number                     Vendor\n",
       "0        10-62167-2  KILLICK AEROSPACE LIMITED\n",
       "1        10-62167-2  KILLICK AEROSPACE LIMITED\n",
       "2        10-62167-2  KILLICK AEROSPACE LIMITED\n",
       "3        10-62167-2  KILLICK AEROSPACE LIMITED\n",
       "4        10-62167-2  KILLICK AEROSPACE LIMITED\n",
       "...             ...                        ...\n",
       "158636  10-631045-2  MITCHELL AIRCRAFT SPARES.\n",
       "158637  10-631045-2  MITCHELL AIRCRAFT SPARES.\n",
       "158638  10-631045-2  MITCHELL AIRCRAFT SPARES.\n",
       "158639  10-631045-2  MITCHELL AIRCRAFT SPARES.\n",
       "158640  10-631045-2  MITCHELL AIRCRAFT SPARES.\n",
       "\n",
       "[158641 rows x 2 columns]"
      ]
     },
     "execution_count": 220,
     "metadata": {},
     "output_type": "execute_result"
    }
   ],
   "source": [
    "csv[['Part_Number','Vendor']]"
   ]
  },
  {
   "cell_type": "code",
   "execution_count": 221,
   "metadata": {},
   "outputs": [],
   "source": [
    "fn = pd.DataFrame()\n",
    "neww = []\n",
    "for x in range(csv.shape[0]):\n",
    "    neww.append(str(csv['Part_Number'][x])+str(csv['Vendor'][x]))\n",
    "    "
   ]
  },
  {
   "cell_type": "code",
   "execution_count": 222,
   "metadata": {},
   "outputs": [],
   "source": [
    "fn = pd.DataFrame(neww,columns=['value'])"
   ]
  },
  {
   "cell_type": "code",
   "execution_count": 223,
   "metadata": {},
   "outputs": [],
   "source": [
    "unique = list(fn['value'].unique())"
   ]
  },
  {
   "cell_type": "code",
   "execution_count": 224,
   "metadata": {},
   "outputs": [
    {
     "data": {
      "text/plain": [
       "['10-62167-2KILLICK AEROSPACE LIMITED',\n",
       " '1062167-2KILLICK AEROSPACE LIMITED',\n",
       " '10-631045-2AEROSPACE ACCESS CORPORATION',\n",
       " '10-631045-2AVIATION EQUIPMENT SOLUTIONS',\n",
       " '10-631045-2AVIATOR SOLUTIONS LTD',\n",
       " '10-631045-2FACTORY DIREKT',\n",
       " '10-631045-2IAG MATERIALS',\n",
       " '10-631045-2IKEZ AVIATION & CONSULTING LLC',\n",
       " '10-631045-2INITIAL ELECTRONICS',\n",
       " '10-631045-2JW AVIATION',\n",
       " '10-631045-2MITCHELL AIRCRAFT SPARES.',\n",
       " '10-631045-2PRODUCTION COMPANY',\n",
       " '10-631045-2STS COMPONENT SOLUTIONS LLC',\n",
       " '10-631045-2TRANS-AERO FZE.',\n",
       " '10-631045-2UNICAL AVIATION INC',\n",
       " '10-631045-2UNIQUIP PLUS, INC.\"\"',\n",
       " '10-631045-2VISION AERONAUTICS',\n",
       " '107484-7GA TELESIS LLC',\n",
       " '107484-7VC DISPLAYS INC',\n",
       " '107492-2GOLDEN FALCON AVIATION']"
      ]
     },
     "execution_count": 224,
     "metadata": {},
     "output_type": "execute_result"
    }
   ],
   "source": [
    "unique[0:20]"
   ]
  },
  {
   "cell_type": "code",
   "execution_count": 225,
   "metadata": {},
   "outputs": [
    {
     "data": {
      "text/html": [
       "<div>\n",
       "<style scoped>\n",
       "    .dataframe tbody tr th:only-of-type {\n",
       "        vertical-align: middle;\n",
       "    }\n",
       "\n",
       "    .dataframe tbody tr th {\n",
       "        vertical-align: top;\n",
       "    }\n",
       "\n",
       "    .dataframe thead th {\n",
       "        text-align: right;\n",
       "    }\n",
       "</style>\n",
       "<table border=\"1\" class=\"dataframe\">\n",
       "  <thead>\n",
       "    <tr style=\"text-align: right;\">\n",
       "      <th></th>\n",
       "      <th>Part_Number</th>\n",
       "      <th>Description</th>\n",
       "      <th>Appl_Code</th>\n",
       "      <th>LLP_Non_LLP</th>\n",
       "      <th>Vendor</th>\n",
       "      <th>Condition</th>\n",
       "      <th>Dt</th>\n",
       "      <th>Qty</th>\n",
       "      <th>Sale</th>\n",
       "    </tr>\n",
       "  </thead>\n",
       "  <tbody>\n",
       "    <tr>\n",
       "      <th>0</th>\n",
       "      <td>10-62167-2</td>\n",
       "      <td>HYDRAULIC PUMP</td>\n",
       "      <td>CFM56-7</td>\n",
       "      <td>Non-LLP</td>\n",
       "      <td>KILLICK AEROSPACE LIMITED</td>\n",
       "      <td>NE</td>\n",
       "      <td>2020-02-11</td>\n",
       "      <td>1</td>\n",
       "      <td>0</td>\n",
       "    </tr>\n",
       "    <tr>\n",
       "      <th>1</th>\n",
       "      <td>10-62167-2</td>\n",
       "      <td>HYDRAULIC PUMP</td>\n",
       "      <td>CFM56-7</td>\n",
       "      <td>Non-LLP</td>\n",
       "      <td>KILLICK AEROSPACE LIMITED</td>\n",
       "      <td>NE</td>\n",
       "      <td>2020-02-12</td>\n",
       "      <td>1</td>\n",
       "      <td>0</td>\n",
       "    </tr>\n",
       "    <tr>\n",
       "      <th>2</th>\n",
       "      <td>10-62167-2</td>\n",
       "      <td>HYDRAULIC PUMP</td>\n",
       "      <td>CFM56-7</td>\n",
       "      <td>Non-LLP</td>\n",
       "      <td>KILLICK AEROSPACE LIMITED</td>\n",
       "      <td>NE</td>\n",
       "      <td>2020-02-13</td>\n",
       "      <td>1</td>\n",
       "      <td>0</td>\n",
       "    </tr>\n",
       "    <tr>\n",
       "      <th>3</th>\n",
       "      <td>10-62167-2</td>\n",
       "      <td>HYDRAULIC PUMP</td>\n",
       "      <td>CFM56-7</td>\n",
       "      <td>Non-LLP</td>\n",
       "      <td>KILLICK AEROSPACE LIMITED</td>\n",
       "      <td>NE</td>\n",
       "      <td>2020-02-14</td>\n",
       "      <td>1</td>\n",
       "      <td>0</td>\n",
       "    </tr>\n",
       "    <tr>\n",
       "      <th>4</th>\n",
       "      <td>10-62167-2</td>\n",
       "      <td>HYDRAULIC PUMP</td>\n",
       "      <td>CFM56-7</td>\n",
       "      <td>Non-LLP</td>\n",
       "      <td>KILLICK AEROSPACE LIMITED</td>\n",
       "      <td>NE</td>\n",
       "      <td>2020-02-15</td>\n",
       "      <td>1</td>\n",
       "      <td>0</td>\n",
       "    </tr>\n",
       "  </tbody>\n",
       "</table>\n",
       "</div>"
      ],
      "text/plain": [
       "  Part_Number     Description Appl_Code LLP_Non_LLP  \\\n",
       "0  10-62167-2  HYDRAULIC PUMP   CFM56-7     Non-LLP   \n",
       "1  10-62167-2  HYDRAULIC PUMP   CFM56-7     Non-LLP   \n",
       "2  10-62167-2  HYDRAULIC PUMP   CFM56-7     Non-LLP   \n",
       "3  10-62167-2  HYDRAULIC PUMP   CFM56-7     Non-LLP   \n",
       "4  10-62167-2  HYDRAULIC PUMP   CFM56-7     Non-LLP   \n",
       "\n",
       "                      Vendor Condition         Dt  Qty  Sale  \n",
       "0  KILLICK AEROSPACE LIMITED        NE 2020-02-11    1     0  \n",
       "1  KILLICK AEROSPACE LIMITED        NE 2020-02-12    1     0  \n",
       "2  KILLICK AEROSPACE LIMITED        NE 2020-02-13    1     0  \n",
       "3  KILLICK AEROSPACE LIMITED        NE 2020-02-14    1     0  \n",
       "4  KILLICK AEROSPACE LIMITED        NE 2020-02-15    1     0  "
      ]
     },
     "execution_count": 225,
     "metadata": {},
     "output_type": "execute_result"
    }
   ],
   "source": [
    "csv.head()"
   ]
  },
  {
   "cell_type": "code",
   "execution_count": 226,
   "metadata": {},
   "outputs": [
    {
     "data": {
      "text/plain": [
       "['10-62167-2KILLICK AEROSPACE LIMITED',\n",
       " '1062167-2KILLICK AEROSPACE LIMITED',\n",
       " '10-631045-2AEROSPACE ACCESS CORPORATION',\n",
       " '10-631045-2AVIATION EQUIPMENT SOLUTIONS',\n",
       " '10-631045-2AVIATOR SOLUTIONS LTD',\n",
       " '10-631045-2FACTORY DIREKT',\n",
       " '10-631045-2IAG MATERIALS',\n",
       " '10-631045-2IKEZ AVIATION & CONSULTING LLC',\n",
       " '10-631045-2INITIAL ELECTRONICS',\n",
       " '10-631045-2JW AVIATION',\n",
       " '10-631045-2MITCHELL AIRCRAFT SPARES.',\n",
       " '10-631045-2PRODUCTION COMPANY',\n",
       " '10-631045-2STS COMPONENT SOLUTIONS LLC',\n",
       " '10-631045-2TRANS-AERO FZE.',\n",
       " '10-631045-2UNICAL AVIATION INC',\n",
       " '10-631045-2UNIQUIP PLUS, INC.\"\"',\n",
       " '10-631045-2VISION AERONAUTICS',\n",
       " '107484-7GA TELESIS LLC',\n",
       " '107484-7VC DISPLAYS INC',\n",
       " '107492-2GOLDEN FALCON AVIATION']"
      ]
     },
     "execution_count": 226,
     "metadata": {},
     "output_type": "execute_result"
    }
   ],
   "source": [
    "unique[0:20]"
   ]
  },
  {
   "cell_type": "code",
   "execution_count": 227,
   "metadata": {},
   "outputs": [],
   "source": [
    "vendor_list= list(csv['Vendor'].unique())"
   ]
  },
  {
   "cell_type": "code",
   "execution_count": 228,
   "metadata": {},
   "outputs": [
    {
     "data": {
      "text/plain": [
       "['KILLICK AEROSPACE LIMITED',\n",
       " 'AEROSPACE ACCESS CORPORATION',\n",
       " 'AVIATION EQUIPMENT SOLUTIONS',\n",
       " 'AVIATOR SOLUTIONS LTD',\n",
       " 'FACTORY DIREKT',\n",
       " 'IAG MATERIALS',\n",
       " 'IKEZ AVIATION & CONSULTING LLC',\n",
       " 'INITIAL ELECTRONICS',\n",
       " 'JW AVIATION',\n",
       " 'MITCHELL AIRCRAFT SPARES.']"
      ]
     },
     "execution_count": 228,
     "metadata": {},
     "output_type": "execute_result"
    }
   ],
   "source": [
    "vendor_list[0:10]"
   ]
  },
  {
   "cell_type": "code",
   "execution_count": 229,
   "metadata": {},
   "outputs": [],
   "source": [
    "uniq_df = pd.DataFrame()\n",
    "val1_ = []\n",
    "val2_ = []\n",
    "for val in unique:\n",
    "    for v_val in vendor_list:\n",
    "        nn = val.find(v_val)\n",
    "        if nn!=-1:\n",
    "            break\n",
    "        else:\n",
    "            pass\n",
    "    val1_.append(val[:nn])\n",
    "    val2_.append(val[nn:])\n",
    "uniq_df['number'] = val1_\n",
    "uniq_df['Vendor'] = val2_\n",
    "    "
   ]
  },
  {
   "cell_type": "code",
   "execution_count": 230,
   "metadata": {},
   "outputs": [],
   "source": [
    "uniq_df.to_csv(\"Value_new.csv\")"
   ]
  },
  {
   "cell_type": "code",
   "execution_count": 231,
   "metadata": {},
   "outputs": [
    {
     "data": {
      "text/html": [
       "<div>\n",
       "<style scoped>\n",
       "    .dataframe tbody tr th:only-of-type {\n",
       "        vertical-align: middle;\n",
       "    }\n",
       "\n",
       "    .dataframe tbody tr th {\n",
       "        vertical-align: top;\n",
       "    }\n",
       "\n",
       "    .dataframe thead th {\n",
       "        text-align: right;\n",
       "    }\n",
       "</style>\n",
       "<table border=\"1\" class=\"dataframe\">\n",
       "  <thead>\n",
       "    <tr style=\"text-align: right;\">\n",
       "      <th></th>\n",
       "      <th>number</th>\n",
       "      <th>Vendor</th>\n",
       "    </tr>\n",
       "  </thead>\n",
       "  <tbody>\n",
       "    <tr>\n",
       "      <th>0</th>\n",
       "      <td>10-62167-2</td>\n",
       "      <td>KILLICK AEROSPACE LIMITED</td>\n",
       "    </tr>\n",
       "    <tr>\n",
       "      <th>1</th>\n",
       "      <td>1062167-2</td>\n",
       "      <td>KILLICK AEROSPACE LIMITED</td>\n",
       "    </tr>\n",
       "    <tr>\n",
       "      <th>2</th>\n",
       "      <td>10-631045-2</td>\n",
       "      <td>AEROSPACE ACCESS CORPORATION</td>\n",
       "    </tr>\n",
       "    <tr>\n",
       "      <th>3</th>\n",
       "      <td>10-631045-2</td>\n",
       "      <td>AVIATION EQUIPMENT SOLUTIONS</td>\n",
       "    </tr>\n",
       "    <tr>\n",
       "      <th>4</th>\n",
       "      <td>10-631045-2</td>\n",
       "      <td>AVIATOR SOLUTIONS LTD</td>\n",
       "    </tr>\n",
       "  </tbody>\n",
       "</table>\n",
       "</div>"
      ],
      "text/plain": [
       "        number                        Vendor\n",
       "0   10-62167-2     KILLICK AEROSPACE LIMITED\n",
       "1    1062167-2     KILLICK AEROSPACE LIMITED\n",
       "2  10-631045-2  AEROSPACE ACCESS CORPORATION\n",
       "3  10-631045-2  AVIATION EQUIPMENT SOLUTIONS\n",
       "4  10-631045-2         AVIATOR SOLUTIONS LTD"
      ]
     },
     "execution_count": 231,
     "metadata": {},
     "output_type": "execute_result"
    }
   ],
   "source": [
    "uniq_df.head()"
   ]
  },
  {
   "cell_type": "code",
   "execution_count": 232,
   "metadata": {},
   "outputs": [],
   "source": [
    "#dct = dict(zip(uniq_df['number'],uniq_df['Vendor']))"
   ]
  },
  {
   "cell_type": "code",
   "execution_count": 233,
   "metadata": {},
   "outputs": [],
   "source": [
    "uniq_df_num = uniq_df['number'].unique()\n",
    "#uniq_df_num"
   ]
  },
  {
   "cell_type": "code",
   "execution_count": 234,
   "metadata": {},
   "outputs": [],
   "source": [
    "new_df_list = []\n",
    "new_dff = pd.DataFrame()\n",
    "for num in uniq_df_num:\n",
    "    tmp1 = list(uniq_df.loc[uniq_df['number']==num]['Vendor'])\n",
    "    new_df_list.append(tmp1)\n",
    "new_dff['Number'] = uniq_df_num\n",
    "new_dff['Imp'] = new_df_list\n"
   ]
  },
  {
   "cell_type": "code",
   "execution_count": 235,
   "metadata": {},
   "outputs": [
    {
     "data": {
      "text/html": [
       "<div>\n",
       "<style scoped>\n",
       "    .dataframe tbody tr th:only-of-type {\n",
       "        vertical-align: middle;\n",
       "    }\n",
       "\n",
       "    .dataframe tbody tr th {\n",
       "        vertical-align: top;\n",
       "    }\n",
       "\n",
       "    .dataframe thead th {\n",
       "        text-align: right;\n",
       "    }\n",
       "</style>\n",
       "<table border=\"1\" class=\"dataframe\">\n",
       "  <thead>\n",
       "    <tr style=\"text-align: right;\">\n",
       "      <th></th>\n",
       "      <th>Number</th>\n",
       "      <th>Imp</th>\n",
       "    </tr>\n",
       "  </thead>\n",
       "  <tbody>\n",
       "    <tr>\n",
       "      <th>0</th>\n",
       "      <td>10-62167-2</td>\n",
       "      <td>[KILLICK AEROSPACE LIMITED]</td>\n",
       "    </tr>\n",
       "    <tr>\n",
       "      <th>1</th>\n",
       "      <td>1062167-2</td>\n",
       "      <td>[KILLICK AEROSPACE LIMITED]</td>\n",
       "    </tr>\n",
       "    <tr>\n",
       "      <th>2</th>\n",
       "      <td>10-631045-2</td>\n",
       "      <td>[AEROSPACE ACCESS CORPORATION, AVIATION EQUIPM...</td>\n",
       "    </tr>\n",
       "    <tr>\n",
       "      <th>3</th>\n",
       "      <td>107484-7</td>\n",
       "      <td>[GA TELESIS LLC, VC DISPLAYS INC]</td>\n",
       "    </tr>\n",
       "    <tr>\n",
       "      <th>4</th>\n",
       "      <td>107492-2</td>\n",
       "      <td>[GOLDEN FALCON AVIATION]</td>\n",
       "    </tr>\n",
       "  </tbody>\n",
       "</table>\n",
       "</div>"
      ],
      "text/plain": [
       "        Number                                                Imp\n",
       "0   10-62167-2                        [KILLICK AEROSPACE LIMITED]\n",
       "1    1062167-2                        [KILLICK AEROSPACE LIMITED]\n",
       "2  10-631045-2  [AEROSPACE ACCESS CORPORATION, AVIATION EQUIPM...\n",
       "3     107484-7                  [GA TELESIS LLC, VC DISPLAYS INC]\n",
       "4     107492-2                           [GOLDEN FALCON AVIATION]"
      ]
     },
     "execution_count": 235,
     "metadata": {},
     "output_type": "execute_result"
    }
   ],
   "source": [
    "new_dff.head()"
   ]
  },
  {
   "cell_type": "code",
   "execution_count": 236,
   "metadata": {},
   "outputs": [],
   "source": [
    "#new_dff['Imp']"
   ]
  },
  {
   "cell_type": "code",
   "execution_count": 237,
   "metadata": {},
   "outputs": [],
   "source": [
    "new_dff_dict = dict(zip(new_dff['Number'],new_dff['Imp']))"
   ]
  },
  {
   "cell_type": "code",
   "execution_count": null,
   "metadata": {},
   "outputs": [],
   "source": []
  },
  {
   "cell_type": "code",
   "execution_count": 238,
   "metadata": {},
   "outputs": [],
   "source": [
    "#csv.loc[(csv['Vendor']==\"ITS\") & (csv['Part_Number']=='472583')]"
   ]
  },
  {
   "cell_type": "code",
   "execution_count": 239,
   "metadata": {},
   "outputs": [],
   "source": [
    "csv['Part_Number'] = csv['Part_Number'].astype(str)"
   ]
  },
  {
   "cell_type": "code",
   "execution_count": 240,
   "metadata": {},
   "outputs": [],
   "source": [
    "keys = list(new_dff_dict.keys())\n",
    "values = list(new_dff_dict.values())"
   ]
  },
  {
   "cell_type": "code",
   "execution_count": 241,
   "metadata": {},
   "outputs": [],
   "source": [
    "#new_dff_dict['472583']"
   ]
  },
  {
   "cell_type": "code",
   "execution_count": 242,
   "metadata": {},
   "outputs": [],
   "source": [
    "#csv.loc[(csv['Part_Number']=='472583') &  (csv['Vendor']=='ITS')]\n"
   ]
  },
  {
   "cell_type": "code",
   "execution_count": 243,
   "metadata": {},
   "outputs": [],
   "source": [
    "final_miss_df = pd.DataFrame()\n",
    "for key in new_dff_dict.keys():\n",
    "    tmp_ls = list(new_dff_dict[key])\n",
    "    l_tmp_ls = len(tmp_ls)\n",
    "    for vendor in tmp_ls:\n",
    "        cnt = len(csv.loc[(csv['Part_Number']==key) &  (csv['Vendor']==vendor),'Dt'])\n",
    "        if cnt < 100:\n",
    "            #print(cnt)\n",
    "            #print(\"Less than 100 found for: \"+str(key)+str(\" \")+str(vendor))\n",
    "            final_miss_df = final_miss_df.append(csv.loc[(csv['Part_Number']==key) &  (csv['Vendor']==vendor)])\n",
    "    \n",
    "        \n",
    "    "
   ]
  },
  {
   "cell_type": "code",
   "execution_count": 244,
   "metadata": {},
   "outputs": [],
   "source": [
    "#sdfghjkl"
   ]
  },
  {
   "cell_type": "code",
   "execution_count": 245,
   "metadata": {},
   "outputs": [],
   "source": [
    "try:\n",
    "    #final_miss_df.reset_index(inplace=True)\n",
    "    #final_miss_df.drop('index',axis=1,inplace=True)\n",
    "    #final_miss_df.drop('level_0',axis=1,inplace=True)\n",
    "    pass\n",
    "except:\n",
    "    pass"
   ]
  },
  {
   "cell_type": "code",
   "execution_count": 246,
   "metadata": {},
   "outputs": [],
   "source": [
    "#csv['Part_Number'].index[626]"
   ]
  },
  {
   "cell_type": "code",
   "execution_count": 247,
   "metadata": {},
   "outputs": [
    {
     "data": {
      "text/html": [
       "<div>\n",
       "<style scoped>\n",
       "    .dataframe tbody tr th:only-of-type {\n",
       "        vertical-align: middle;\n",
       "    }\n",
       "\n",
       "    .dataframe tbody tr th {\n",
       "        vertical-align: top;\n",
       "    }\n",
       "\n",
       "    .dataframe thead th {\n",
       "        text-align: right;\n",
       "    }\n",
       "</style>\n",
       "<table border=\"1\" class=\"dataframe\">\n",
       "  <thead>\n",
       "    <tr style=\"text-align: right;\">\n",
       "      <th></th>\n",
       "      <th>Part_Number</th>\n",
       "      <th>Description</th>\n",
       "      <th>Appl_Code</th>\n",
       "      <th>LLP_Non_LLP</th>\n",
       "      <th>Vendor</th>\n",
       "      <th>Condition</th>\n",
       "      <th>Dt</th>\n",
       "      <th>Qty</th>\n",
       "      <th>Sale</th>\n",
       "    </tr>\n",
       "  </thead>\n",
       "  <tbody>\n",
       "    <tr>\n",
       "      <th>626</th>\n",
       "      <td>10-631045-2</td>\n",
       "      <td>IGNITION EXCITER</td>\n",
       "      <td>CFM56-7</td>\n",
       "      <td>Non-LLP</td>\n",
       "      <td>MITCHELL AIRCRAFT SPARES.</td>\n",
       "      <td>NE</td>\n",
       "      <td>2020-02-19</td>\n",
       "      <td>1</td>\n",
       "      <td>0</td>\n",
       "    </tr>\n",
       "    <tr>\n",
       "      <th>627</th>\n",
       "      <td>10-631045-2</td>\n",
       "      <td>IGNITION EXCITER</td>\n",
       "      <td>CFM56-7</td>\n",
       "      <td>Non-LLP</td>\n",
       "      <td>MITCHELL AIRCRAFT SPARES.</td>\n",
       "      <td>NE</td>\n",
       "      <td>2020-02-20</td>\n",
       "      <td>1</td>\n",
       "      <td>0</td>\n",
       "    </tr>\n",
       "    <tr>\n",
       "      <th>628</th>\n",
       "      <td>10-631045-2</td>\n",
       "      <td>IGNITION EXCITER</td>\n",
       "      <td>CFM56-7</td>\n",
       "      <td>Non-LLP</td>\n",
       "      <td>MITCHELL AIRCRAFT SPARES.</td>\n",
       "      <td>NE</td>\n",
       "      <td>2020-02-21</td>\n",
       "      <td>1</td>\n",
       "      <td>0</td>\n",
       "    </tr>\n",
       "    <tr>\n",
       "      <th>629</th>\n",
       "      <td>10-631045-2</td>\n",
       "      <td>IGNITION EXCITER</td>\n",
       "      <td>CFM56-7</td>\n",
       "      <td>Non-LLP</td>\n",
       "      <td>MITCHELL AIRCRAFT SPARES.</td>\n",
       "      <td>NE</td>\n",
       "      <td>2020-02-22</td>\n",
       "      <td>1</td>\n",
       "      <td>0</td>\n",
       "    </tr>\n",
       "    <tr>\n",
       "      <th>630</th>\n",
       "      <td>10-631045-2</td>\n",
       "      <td>IGNITION EXCITER</td>\n",
       "      <td>CFM56-7</td>\n",
       "      <td>Non-LLP</td>\n",
       "      <td>MITCHELL AIRCRAFT SPARES.</td>\n",
       "      <td>NE</td>\n",
       "      <td>2020-02-23</td>\n",
       "      <td>1</td>\n",
       "      <td>0</td>\n",
       "    </tr>\n",
       "  </tbody>\n",
       "</table>\n",
       "</div>"
      ],
      "text/plain": [
       "     Part_Number       Description Appl_Code LLP_Non_LLP  \\\n",
       "626  10-631045-2  IGNITION EXCITER   CFM56-7     Non-LLP   \n",
       "627  10-631045-2  IGNITION EXCITER   CFM56-7     Non-LLP   \n",
       "628  10-631045-2  IGNITION EXCITER   CFM56-7     Non-LLP   \n",
       "629  10-631045-2  IGNITION EXCITER   CFM56-7     Non-LLP   \n",
       "630  10-631045-2  IGNITION EXCITER   CFM56-7     Non-LLP   \n",
       "\n",
       "                        Vendor Condition         Dt  Qty  Sale  \n",
       "626  MITCHELL AIRCRAFT SPARES.        NE 2020-02-19    1     0  \n",
       "627  MITCHELL AIRCRAFT SPARES.        NE 2020-02-20    1     0  \n",
       "628  MITCHELL AIRCRAFT SPARES.        NE 2020-02-21    1     0  \n",
       "629  MITCHELL AIRCRAFT SPARES.        NE 2020-02-22    1     0  \n",
       "630  MITCHELL AIRCRAFT SPARES.        NE 2020-02-23    1     0  "
      ]
     },
     "execution_count": 247,
     "metadata": {},
     "output_type": "execute_result"
    }
   ],
   "source": [
    "final_miss_df.head()"
   ]
  },
  {
   "cell_type": "code",
   "execution_count": 248,
   "metadata": {},
   "outputs": [],
   "source": [
    "import time\n",
    "import datetime"
   ]
  },
  {
   "cell_type": "code",
   "execution_count": 249,
   "metadata": {},
   "outputs": [],
   "source": [
    "start_date = '2020-02-11' ; end_date = '2020-05-20'"
   ]
  },
  {
   "cell_type": "code",
   "execution_count": 250,
   "metadata": {},
   "outputs": [],
   "source": [
    "dt_str1 = start_date\n",
    "start_date  = datetime.datetime.strptime(dt_str1,\"%Y-%m-%d\")\n",
    "dt_str2 = end_date\n",
    "end_date = datetime.datetime.strptime(dt_str2,\"%Y-%m-%d\")"
   ]
  },
  {
   "cell_type": "code",
   "execution_count": 251,
   "metadata": {},
   "outputs": [
    {
     "name": "stdout",
     "output_type": "stream",
     "text": [
      "2020-02-11 00:00:00\n",
      "2020-05-20 00:00:00\n"
     ]
    },
    {
     "data": {
      "text/plain": [
       "(None, None)"
      ]
     },
     "execution_count": 251,
     "metadata": {},
     "output_type": "execute_result"
    }
   ],
   "source": [
    "print(start_date),print(end_date)"
   ]
  },
  {
   "cell_type": "code",
   "execution_count": 252,
   "metadata": {},
   "outputs": [
    {
     "data": {
      "text/html": [
       "<div>\n",
       "<style scoped>\n",
       "    .dataframe tbody tr th:only-of-type {\n",
       "        vertical-align: middle;\n",
       "    }\n",
       "\n",
       "    .dataframe tbody tr th {\n",
       "        vertical-align: top;\n",
       "    }\n",
       "\n",
       "    .dataframe thead th {\n",
       "        text-align: right;\n",
       "    }\n",
       "</style>\n",
       "<table border=\"1\" class=\"dataframe\">\n",
       "  <thead>\n",
       "    <tr style=\"text-align: right;\">\n",
       "      <th></th>\n",
       "      <th>Part_Number</th>\n",
       "      <th>Description</th>\n",
       "      <th>Appl_Code</th>\n",
       "      <th>LLP_Non_LLP</th>\n",
       "      <th>Vendor</th>\n",
       "      <th>Condition</th>\n",
       "      <th>Dt</th>\n",
       "      <th>Qty</th>\n",
       "      <th>Sale</th>\n",
       "    </tr>\n",
       "  </thead>\n",
       "  <tbody>\n",
       "    <tr>\n",
       "      <th>0</th>\n",
       "      <td>10-62167-2</td>\n",
       "      <td>HYDRAULIC PUMP</td>\n",
       "      <td>CFM56-7</td>\n",
       "      <td>Non-LLP</td>\n",
       "      <td>KILLICK AEROSPACE LIMITED</td>\n",
       "      <td>NE</td>\n",
       "      <td>2020-02-11</td>\n",
       "      <td>1</td>\n",
       "      <td>0</td>\n",
       "    </tr>\n",
       "    <tr>\n",
       "      <th>1</th>\n",
       "      <td>10-62167-2</td>\n",
       "      <td>HYDRAULIC PUMP</td>\n",
       "      <td>CFM56-7</td>\n",
       "      <td>Non-LLP</td>\n",
       "      <td>KILLICK AEROSPACE LIMITED</td>\n",
       "      <td>NE</td>\n",
       "      <td>2020-02-12</td>\n",
       "      <td>1</td>\n",
       "      <td>0</td>\n",
       "    </tr>\n",
       "    <tr>\n",
       "      <th>2</th>\n",
       "      <td>10-62167-2</td>\n",
       "      <td>HYDRAULIC PUMP</td>\n",
       "      <td>CFM56-7</td>\n",
       "      <td>Non-LLP</td>\n",
       "      <td>KILLICK AEROSPACE LIMITED</td>\n",
       "      <td>NE</td>\n",
       "      <td>2020-02-13</td>\n",
       "      <td>1</td>\n",
       "      <td>0</td>\n",
       "    </tr>\n",
       "    <tr>\n",
       "      <th>3</th>\n",
       "      <td>10-62167-2</td>\n",
       "      <td>HYDRAULIC PUMP</td>\n",
       "      <td>CFM56-7</td>\n",
       "      <td>Non-LLP</td>\n",
       "      <td>KILLICK AEROSPACE LIMITED</td>\n",
       "      <td>NE</td>\n",
       "      <td>2020-02-14</td>\n",
       "      <td>1</td>\n",
       "      <td>0</td>\n",
       "    </tr>\n",
       "    <tr>\n",
       "      <th>4</th>\n",
       "      <td>10-62167-2</td>\n",
       "      <td>HYDRAULIC PUMP</td>\n",
       "      <td>CFM56-7</td>\n",
       "      <td>Non-LLP</td>\n",
       "      <td>KILLICK AEROSPACE LIMITED</td>\n",
       "      <td>NE</td>\n",
       "      <td>2020-02-15</td>\n",
       "      <td>1</td>\n",
       "      <td>0</td>\n",
       "    </tr>\n",
       "  </tbody>\n",
       "</table>\n",
       "</div>"
      ],
      "text/plain": [
       "  Part_Number     Description Appl_Code LLP_Non_LLP  \\\n",
       "0  10-62167-2  HYDRAULIC PUMP   CFM56-7     Non-LLP   \n",
       "1  10-62167-2  HYDRAULIC PUMP   CFM56-7     Non-LLP   \n",
       "2  10-62167-2  HYDRAULIC PUMP   CFM56-7     Non-LLP   \n",
       "3  10-62167-2  HYDRAULIC PUMP   CFM56-7     Non-LLP   \n",
       "4  10-62167-2  HYDRAULIC PUMP   CFM56-7     Non-LLP   \n",
       "\n",
       "                      Vendor Condition         Dt  Qty  Sale  \n",
       "0  KILLICK AEROSPACE LIMITED        NE 2020-02-11    1     0  \n",
       "1  KILLICK AEROSPACE LIMITED        NE 2020-02-12    1     0  \n",
       "2  KILLICK AEROSPACE LIMITED        NE 2020-02-13    1     0  \n",
       "3  KILLICK AEROSPACE LIMITED        NE 2020-02-14    1     0  \n",
       "4  KILLICK AEROSPACE LIMITED        NE 2020-02-15    1     0  "
      ]
     },
     "execution_count": 252,
     "metadata": {},
     "output_type": "execute_result"
    }
   ],
   "source": [
    "csv.head()"
   ]
  },
  {
   "cell_type": "code",
   "execution_count": 253,
   "metadata": {},
   "outputs": [],
   "source": [
    "csv = pd.concat([csv, final_miss_df, final_miss_df]).drop_duplicates(keep=False)"
   ]
  },
  {
   "cell_type": "code",
   "execution_count": 254,
   "metadata": {},
   "outputs": [
    {
     "data": {
      "text/html": [
       "<div>\n",
       "<style scoped>\n",
       "    .dataframe tbody tr th:only-of-type {\n",
       "        vertical-align: middle;\n",
       "    }\n",
       "\n",
       "    .dataframe tbody tr th {\n",
       "        vertical-align: top;\n",
       "    }\n",
       "\n",
       "    .dataframe thead th {\n",
       "        text-align: right;\n",
       "    }\n",
       "</style>\n",
       "<table border=\"1\" class=\"dataframe\">\n",
       "  <thead>\n",
       "    <tr style=\"text-align: right;\">\n",
       "      <th></th>\n",
       "      <th>Part_Number</th>\n",
       "      <th>Description</th>\n",
       "      <th>Appl_Code</th>\n",
       "      <th>LLP_Non_LLP</th>\n",
       "      <th>Vendor</th>\n",
       "      <th>Condition</th>\n",
       "      <th>Dt</th>\n",
       "      <th>Qty</th>\n",
       "      <th>Sale</th>\n",
       "    </tr>\n",
       "  </thead>\n",
       "  <tbody>\n",
       "    <tr>\n",
       "      <th>0</th>\n",
       "      <td>10-62167-2</td>\n",
       "      <td>HYDRAULIC PUMP</td>\n",
       "      <td>CFM56-7</td>\n",
       "      <td>Non-LLP</td>\n",
       "      <td>KILLICK AEROSPACE LIMITED</td>\n",
       "      <td>NE</td>\n",
       "      <td>2020-02-11</td>\n",
       "      <td>1</td>\n",
       "      <td>0</td>\n",
       "    </tr>\n",
       "    <tr>\n",
       "      <th>1</th>\n",
       "      <td>10-62167-2</td>\n",
       "      <td>HYDRAULIC PUMP</td>\n",
       "      <td>CFM56-7</td>\n",
       "      <td>Non-LLP</td>\n",
       "      <td>KILLICK AEROSPACE LIMITED</td>\n",
       "      <td>NE</td>\n",
       "      <td>2020-02-12</td>\n",
       "      <td>1</td>\n",
       "      <td>0</td>\n",
       "    </tr>\n",
       "    <tr>\n",
       "      <th>2</th>\n",
       "      <td>10-62167-2</td>\n",
       "      <td>HYDRAULIC PUMP</td>\n",
       "      <td>CFM56-7</td>\n",
       "      <td>Non-LLP</td>\n",
       "      <td>KILLICK AEROSPACE LIMITED</td>\n",
       "      <td>NE</td>\n",
       "      <td>2020-02-13</td>\n",
       "      <td>1</td>\n",
       "      <td>0</td>\n",
       "    </tr>\n",
       "    <tr>\n",
       "      <th>3</th>\n",
       "      <td>10-62167-2</td>\n",
       "      <td>HYDRAULIC PUMP</td>\n",
       "      <td>CFM56-7</td>\n",
       "      <td>Non-LLP</td>\n",
       "      <td>KILLICK AEROSPACE LIMITED</td>\n",
       "      <td>NE</td>\n",
       "      <td>2020-02-14</td>\n",
       "      <td>1</td>\n",
       "      <td>0</td>\n",
       "    </tr>\n",
       "    <tr>\n",
       "      <th>4</th>\n",
       "      <td>10-62167-2</td>\n",
       "      <td>HYDRAULIC PUMP</td>\n",
       "      <td>CFM56-7</td>\n",
       "      <td>Non-LLP</td>\n",
       "      <td>KILLICK AEROSPACE LIMITED</td>\n",
       "      <td>NE</td>\n",
       "      <td>2020-02-15</td>\n",
       "      <td>1</td>\n",
       "      <td>0</td>\n",
       "    </tr>\n",
       "  </tbody>\n",
       "</table>\n",
       "</div>"
      ],
      "text/plain": [
       "  Part_Number     Description Appl_Code LLP_Non_LLP  \\\n",
       "0  10-62167-2  HYDRAULIC PUMP   CFM56-7     Non-LLP   \n",
       "1  10-62167-2  HYDRAULIC PUMP   CFM56-7     Non-LLP   \n",
       "2  10-62167-2  HYDRAULIC PUMP   CFM56-7     Non-LLP   \n",
       "3  10-62167-2  HYDRAULIC PUMP   CFM56-7     Non-LLP   \n",
       "4  10-62167-2  HYDRAULIC PUMP   CFM56-7     Non-LLP   \n",
       "\n",
       "                      Vendor Condition         Dt  Qty  Sale  \n",
       "0  KILLICK AEROSPACE LIMITED        NE 2020-02-11    1     0  \n",
       "1  KILLICK AEROSPACE LIMITED        NE 2020-02-12    1     0  \n",
       "2  KILLICK AEROSPACE LIMITED        NE 2020-02-13    1     0  \n",
       "3  KILLICK AEROSPACE LIMITED        NE 2020-02-14    1     0  \n",
       "4  KILLICK AEROSPACE LIMITED        NE 2020-02-15    1     0  "
      ]
     },
     "execution_count": 254,
     "metadata": {},
     "output_type": "execute_result"
    }
   ],
   "source": [
    "csv.head() #new dataframe without the missing values, here all values have 100 Entries!"
   ]
  },
  {
   "cell_type": "code",
   "execution_count": 255,
   "metadata": {},
   "outputs": [],
   "source": [
    "to_attach = pd.DataFrame()"
   ]
  },
  {
   "cell_type": "code",
   "execution_count": 256,
   "metadata": {},
   "outputs": [],
   "source": [
    "try:\n",
    "    final_miss_df.reset_index(inplace=True)\n",
    "    final_miss_df.drop('index',axis=1,inplace=True)\n",
    "    final_miss_df.drop('level_0',axis=1,inplace=True)\n",
    "except:\n",
    "    pass"
   ]
  },
  {
   "cell_type": "code",
   "execution_count": 257,
   "metadata": {},
   "outputs": [
    {
     "data": {
      "text/html": [
       "<div>\n",
       "<style scoped>\n",
       "    .dataframe tbody tr th:only-of-type {\n",
       "        vertical-align: middle;\n",
       "    }\n",
       "\n",
       "    .dataframe tbody tr th {\n",
       "        vertical-align: top;\n",
       "    }\n",
       "\n",
       "    .dataframe thead th {\n",
       "        text-align: right;\n",
       "    }\n",
       "</style>\n",
       "<table border=\"1\" class=\"dataframe\">\n",
       "  <thead>\n",
       "    <tr style=\"text-align: right;\">\n",
       "      <th></th>\n",
       "      <th>Part_Number</th>\n",
       "      <th>Description</th>\n",
       "      <th>Appl_Code</th>\n",
       "      <th>LLP_Non_LLP</th>\n",
       "      <th>Vendor</th>\n",
       "      <th>Condition</th>\n",
       "      <th>Dt</th>\n",
       "      <th>Qty</th>\n",
       "      <th>Sale</th>\n",
       "    </tr>\n",
       "  </thead>\n",
       "  <tbody>\n",
       "    <tr>\n",
       "      <th>0</th>\n",
       "      <td>10-631045-2</td>\n",
       "      <td>IGNITION EXCITER</td>\n",
       "      <td>CFM56-7</td>\n",
       "      <td>Non-LLP</td>\n",
       "      <td>MITCHELL AIRCRAFT SPARES.</td>\n",
       "      <td>NE</td>\n",
       "      <td>2020-02-19</td>\n",
       "      <td>1</td>\n",
       "      <td>0</td>\n",
       "    </tr>\n",
       "    <tr>\n",
       "      <th>1</th>\n",
       "      <td>10-631045-2</td>\n",
       "      <td>IGNITION EXCITER</td>\n",
       "      <td>CFM56-7</td>\n",
       "      <td>Non-LLP</td>\n",
       "      <td>MITCHELL AIRCRAFT SPARES.</td>\n",
       "      <td>NE</td>\n",
       "      <td>2020-02-20</td>\n",
       "      <td>1</td>\n",
       "      <td>0</td>\n",
       "    </tr>\n",
       "    <tr>\n",
       "      <th>2</th>\n",
       "      <td>10-631045-2</td>\n",
       "      <td>IGNITION EXCITER</td>\n",
       "      <td>CFM56-7</td>\n",
       "      <td>Non-LLP</td>\n",
       "      <td>MITCHELL AIRCRAFT SPARES.</td>\n",
       "      <td>NE</td>\n",
       "      <td>2020-02-21</td>\n",
       "      <td>1</td>\n",
       "      <td>0</td>\n",
       "    </tr>\n",
       "    <tr>\n",
       "      <th>3</th>\n",
       "      <td>10-631045-2</td>\n",
       "      <td>IGNITION EXCITER</td>\n",
       "      <td>CFM56-7</td>\n",
       "      <td>Non-LLP</td>\n",
       "      <td>MITCHELL AIRCRAFT SPARES.</td>\n",
       "      <td>NE</td>\n",
       "      <td>2020-02-22</td>\n",
       "      <td>1</td>\n",
       "      <td>0</td>\n",
       "    </tr>\n",
       "    <tr>\n",
       "      <th>4</th>\n",
       "      <td>10-631045-2</td>\n",
       "      <td>IGNITION EXCITER</td>\n",
       "      <td>CFM56-7</td>\n",
       "      <td>Non-LLP</td>\n",
       "      <td>MITCHELL AIRCRAFT SPARES.</td>\n",
       "      <td>NE</td>\n",
       "      <td>2020-02-23</td>\n",
       "      <td>1</td>\n",
       "      <td>0</td>\n",
       "    </tr>\n",
       "  </tbody>\n",
       "</table>\n",
       "</div>"
      ],
      "text/plain": [
       "   Part_Number       Description Appl_Code LLP_Non_LLP  \\\n",
       "0  10-631045-2  IGNITION EXCITER   CFM56-7     Non-LLP   \n",
       "1  10-631045-2  IGNITION EXCITER   CFM56-7     Non-LLP   \n",
       "2  10-631045-2  IGNITION EXCITER   CFM56-7     Non-LLP   \n",
       "3  10-631045-2  IGNITION EXCITER   CFM56-7     Non-LLP   \n",
       "4  10-631045-2  IGNITION EXCITER   CFM56-7     Non-LLP   \n",
       "\n",
       "                      Vendor Condition         Dt  Qty  Sale  \n",
       "0  MITCHELL AIRCRAFT SPARES.        NE 2020-02-19    1     0  \n",
       "1  MITCHELL AIRCRAFT SPARES.        NE 2020-02-20    1     0  \n",
       "2  MITCHELL AIRCRAFT SPARES.        NE 2020-02-21    1     0  \n",
       "3  MITCHELL AIRCRAFT SPARES.        NE 2020-02-22    1     0  \n",
       "4  MITCHELL AIRCRAFT SPARES.        NE 2020-02-23    1     0  "
      ]
     },
     "execution_count": 257,
     "metadata": {},
     "output_type": "execute_result"
    }
   ],
   "source": [
    "final_miss_df.head()"
   ]
  },
  {
   "cell_type": "code",
   "execution_count": 258,
   "metadata": {},
   "outputs": [
    {
     "data": {
      "text/html": [
       "<div>\n",
       "<style scoped>\n",
       "    .dataframe tbody tr th:only-of-type {\n",
       "        vertical-align: middle;\n",
       "    }\n",
       "\n",
       "    .dataframe tbody tr th {\n",
       "        vertical-align: top;\n",
       "    }\n",
       "\n",
       "    .dataframe thead th {\n",
       "        text-align: right;\n",
       "    }\n",
       "</style>\n",
       "<table border=\"1\" class=\"dataframe\">\n",
       "  <thead>\n",
       "    <tr style=\"text-align: right;\">\n",
       "      <th></th>\n",
       "      <th>Part_Number</th>\n",
       "      <th>Vendor</th>\n",
       "    </tr>\n",
       "  </thead>\n",
       "  <tbody>\n",
       "    <tr>\n",
       "      <th>0</th>\n",
       "      <td>10-631045-2</td>\n",
       "      <td>MITCHELL AIRCRAFT SPARES.</td>\n",
       "    </tr>\n",
       "    <tr>\n",
       "      <th>91</th>\n",
       "      <td>107484-7</td>\n",
       "      <td>GA TELESIS LLC</td>\n",
       "    </tr>\n",
       "    <tr>\n",
       "      <th>120</th>\n",
       "      <td>107492-6</td>\n",
       "      <td>CCI AERO, INC.\"\"</td>\n",
       "    </tr>\n",
       "    <tr>\n",
       "      <th>152</th>\n",
       "      <td>107492-6</td>\n",
       "      <td>HONEYWELL AEROSPACE TRADING</td>\n",
       "    </tr>\n",
       "    <tr>\n",
       "      <th>167</th>\n",
       "      <td>1211175-011</td>\n",
       "      <td>AVTRADE LTD</td>\n",
       "    </tr>\n",
       "    <tr>\n",
       "      <th>...</th>\n",
       "      <td>...</td>\n",
       "      <td>...</td>\n",
       "    </tr>\n",
       "    <tr>\n",
       "      <th>21213</th>\n",
       "      <td>P338P15</td>\n",
       "      <td>TURBOJET PARTNERS, INC.\"\"</td>\n",
       "    </tr>\n",
       "    <tr>\n",
       "      <th>21289</th>\n",
       "      <td>P338P16</td>\n",
       "      <td>TURBOJET PARTNERS, INC.\"\"</td>\n",
       "    </tr>\n",
       "    <tr>\n",
       "      <th>21365</th>\n",
       "      <td>TC174-00</td>\n",
       "      <td>BROOKS &amp; MALDINI CORPORATION</td>\n",
       "    </tr>\n",
       "    <tr>\n",
       "      <th>21426</th>\n",
       "      <td>TC174-01</td>\n",
       "      <td>GMDC, INC\"\"</td>\n",
       "    </tr>\n",
       "    <tr>\n",
       "      <th>21460</th>\n",
       "      <td>TC200-00</td>\n",
       "      <td>IAERO THRUST, LLC\"\"</td>\n",
       "    </tr>\n",
       "  </tbody>\n",
       "</table>\n",
       "<p>289 rows × 2 columns</p>\n",
       "</div>"
      ],
      "text/plain": [
       "       Part_Number                        Vendor\n",
       "0      10-631045-2     MITCHELL AIRCRAFT SPARES.\n",
       "91        107484-7                GA TELESIS LLC\n",
       "120       107492-6              CCI AERO, INC.\"\"\n",
       "152       107492-6   HONEYWELL AEROSPACE TRADING\n",
       "167    1211175-011                   AVTRADE LTD\n",
       "...            ...                           ...\n",
       "21213      P338P15     TURBOJET PARTNERS, INC.\"\"\n",
       "21289      P338P16     TURBOJET PARTNERS, INC.\"\"\n",
       "21365     TC174-00  BROOKS & MALDINI CORPORATION\n",
       "21426     TC174-01                   GMDC, INC\"\"\n",
       "21460     TC200-00           IAERO THRUST, LLC\"\"\n",
       "\n",
       "[289 rows x 2 columns]"
      ]
     },
     "execution_count": 258,
     "metadata": {},
     "output_type": "execute_result"
    }
   ],
   "source": [
    "final_miss_df[['Part_Number','Vendor']].drop_duplicates()"
   ]
  },
  {
   "cell_type": "code",
   "execution_count": 259,
   "metadata": {},
   "outputs": [],
   "source": [
    "#len(final_miss_df['Part_Number'].unique())"
   ]
  },
  {
   "cell_type": "code",
   "execution_count": 260,
   "metadata": {},
   "outputs": [],
   "source": [
    "tmp = final_miss_df.drop_duplicates(subset=['Part_Number','Vendor'])"
   ]
  },
  {
   "cell_type": "code",
   "execution_count": 261,
   "metadata": {},
   "outputs": [],
   "source": [
    "uniq_df_num_miss = tmp['Part_Number'].unique()"
   ]
  },
  {
   "cell_type": "code",
   "execution_count": 262,
   "metadata": {},
   "outputs": [],
   "source": [
    "new_df_miss_list = []\n",
    "new_dff_miss = pd.DataFrame()\n",
    "for num in uniq_df_num_miss:\n",
    "    tmp1 = list(tmp.loc[tmp['Part_Number']==num]['Vendor'])\n",
    "    new_df_miss_list.append(tmp1)\n",
    "new_dff_miss['Part_Number'] = uniq_df_num_miss\n",
    "new_dff_miss['Imp'] = new_df_miss_list\n"
   ]
  },
  {
   "cell_type": "code",
   "execution_count": 263,
   "metadata": {},
   "outputs": [
    {
     "data": {
      "text/html": [
       "<div>\n",
       "<style scoped>\n",
       "    .dataframe tbody tr th:only-of-type {\n",
       "        vertical-align: middle;\n",
       "    }\n",
       "\n",
       "    .dataframe tbody tr th {\n",
       "        vertical-align: top;\n",
       "    }\n",
       "\n",
       "    .dataframe thead th {\n",
       "        text-align: right;\n",
       "    }\n",
       "</style>\n",
       "<table border=\"1\" class=\"dataframe\">\n",
       "  <thead>\n",
       "    <tr style=\"text-align: right;\">\n",
       "      <th></th>\n",
       "      <th>Part_Number</th>\n",
       "      <th>Imp</th>\n",
       "    </tr>\n",
       "  </thead>\n",
       "  <tbody>\n",
       "    <tr>\n",
       "      <th>0</th>\n",
       "      <td>10-631045-2</td>\n",
       "      <td>[MITCHELL AIRCRAFT SPARES.]</td>\n",
       "    </tr>\n",
       "    <tr>\n",
       "      <th>1</th>\n",
       "      <td>107484-7</td>\n",
       "      <td>[GA TELESIS LLC]</td>\n",
       "    </tr>\n",
       "    <tr>\n",
       "      <th>2</th>\n",
       "      <td>107492-6</td>\n",
       "      <td>[CCI AERO, INC.\"\", HONEYWELL AEROSPACE TRADING]</td>\n",
       "    </tr>\n",
       "    <tr>\n",
       "      <th>3</th>\n",
       "      <td>1211175-011</td>\n",
       "      <td>[AVTRADE LTD, JORDAN AIRMOTIVE LIMITED COMPANY.]</td>\n",
       "    </tr>\n",
       "    <tr>\n",
       "      <th>4</th>\n",
       "      <td>121762-4</td>\n",
       "      <td>[AEROSPACE ASSET TRADING, LLC\"\", AEROTECHNIC A...</td>\n",
       "    </tr>\n",
       "  </tbody>\n",
       "</table>\n",
       "</div>"
      ],
      "text/plain": [
       "   Part_Number                                                Imp\n",
       "0  10-631045-2                        [MITCHELL AIRCRAFT SPARES.]\n",
       "1     107484-7                                   [GA TELESIS LLC]\n",
       "2     107492-6    [CCI AERO, INC.\"\", HONEYWELL AEROSPACE TRADING]\n",
       "3  1211175-011   [AVTRADE LTD, JORDAN AIRMOTIVE LIMITED COMPANY.]\n",
       "4     121762-4  [AEROSPACE ASSET TRADING, LLC\"\", AEROTECHNIC A..."
      ]
     },
     "execution_count": 263,
     "metadata": {},
     "output_type": "execute_result"
    }
   ],
   "source": [
    "new_dff_miss.head()"
   ]
  },
  {
   "cell_type": "code",
   "execution_count": 264,
   "metadata": {},
   "outputs": [],
   "source": [
    "new_miss_dict = dict(zip(new_dff_miss['Part_Number'],new_dff_miss['Imp']))"
   ]
  },
  {
   "cell_type": "code",
   "execution_count": 265,
   "metadata": {},
   "outputs": [],
   "source": [
    "#new_miss_dict.keys()"
   ]
  },
  {
   "cell_type": "code",
   "execution_count": 266,
   "metadata": {},
   "outputs": [],
   "source": [
    "for key in new_miss_dict.keys():\n",
    "    tmp_ls = new_miss_dict[key]\n",
    "    l_tmp_ls = len(tmp_ls)\n",
    "    for vendor in tmp_ls:\n",
    "        tmp_df = final_miss_df.loc[(final_miss_df['Vendor']==vendor) &(final_miss_df['Part_Number']==key)]\n",
    "        tmp_df.reset_index(inplace=True)\n",
    "        diff_num = 100 - tmp_df.shape[0]\n",
    "        new_dfm = pd.DataFrame(tmp_df.loc[0]).T\n",
    "        cpy_df = new_dfm\n",
    "        for i in range(diff_num-1):\n",
    "            new_dfm = pd.concat([new_dfm,cpy_df])\n",
    "        tmp_df = pd.concat([tmp_df,new_dfm])\n",
    "        tmp_df.drop('Dt',axis=1,inplace=True)\n",
    "        diff = end_date - start_date\n",
    "        new_tmp_dt = []\n",
    "        for i in range(diff.days + 1):\n",
    "            new_tmp_dt.append((start_date + datetime.timedelta(i)))\n",
    "        tmp_df['Dt'] = new_tmp_dt\n",
    "        to_attach = pd.concat([to_attach,tmp_df])\n",
    "        \n"
   ]
  },
  {
   "cell_type": "code",
   "execution_count": 267,
   "metadata": {},
   "outputs": [],
   "source": [
    "try:\n",
    "    to_attach.drop('index',axis=1,inplace=True)\n",
    "except:\n",
    "    pass"
   ]
  },
  {
   "cell_type": "code",
   "execution_count": 268,
   "metadata": {},
   "outputs": [],
   "source": [
    "to_attach = to_attach[['Part_Number','Description','Appl_Code','LLP_Non_LLP','Vendor','Condition','Dt','Qty','Sale']]"
   ]
  },
  {
   "cell_type": "code",
   "execution_count": 269,
   "metadata": {},
   "outputs": [
    {
     "data": {
      "text/plain": [
       "(28900, 9)"
      ]
     },
     "execution_count": 269,
     "metadata": {},
     "output_type": "execute_result"
    }
   ],
   "source": [
    "to_attach.shape"
   ]
  },
  {
   "cell_type": "code",
   "execution_count": 270,
   "metadata": {},
   "outputs": [],
   "source": [
    "try:\n",
    "    to_attach.drop(['Sale'],axis=1,inplace=True)\n",
    "except:\n",
    "    pass"
   ]
  },
  {
   "cell_type": "code",
   "execution_count": 271,
   "metadata": {},
   "outputs": [],
   "source": [
    "to_attach['Sale'] = [0 for x in range(to_attach.shape[0])]"
   ]
  },
  {
   "cell_type": "code",
   "execution_count": 272,
   "metadata": {},
   "outputs": [],
   "source": [
    "#to_attach.loc[to_attach['Sale']!=0]"
   ]
  },
  {
   "cell_type": "code",
   "execution_count": 273,
   "metadata": {},
   "outputs": [],
   "source": [
    "csv = pd.concat([csv,to_attach])"
   ]
  },
  {
   "cell_type": "code",
   "execution_count": 274,
   "metadata": {},
   "outputs": [
    {
     "data": {
      "text/html": [
       "<div>\n",
       "<style scoped>\n",
       "    .dataframe tbody tr th:only-of-type {\n",
       "        vertical-align: middle;\n",
       "    }\n",
       "\n",
       "    .dataframe tbody tr th {\n",
       "        vertical-align: top;\n",
       "    }\n",
       "\n",
       "    .dataframe thead th {\n",
       "        text-align: right;\n",
       "    }\n",
       "</style>\n",
       "<table border=\"1\" class=\"dataframe\">\n",
       "  <thead>\n",
       "    <tr style=\"text-align: right;\">\n",
       "      <th></th>\n",
       "      <th>Part_Number</th>\n",
       "      <th>Description</th>\n",
       "      <th>Appl_Code</th>\n",
       "      <th>LLP_Non_LLP</th>\n",
       "      <th>Vendor</th>\n",
       "      <th>Condition</th>\n",
       "      <th>Dt</th>\n",
       "      <th>Qty</th>\n",
       "      <th>Sale</th>\n",
       "    </tr>\n",
       "  </thead>\n",
       "  <tbody>\n",
       "    <tr>\n",
       "      <th>0</th>\n",
       "      <td>10-62167-2</td>\n",
       "      <td>HYDRAULIC PUMP</td>\n",
       "      <td>CFM56-7</td>\n",
       "      <td>Non-LLP</td>\n",
       "      <td>KILLICK AEROSPACE LIMITED</td>\n",
       "      <td>NE</td>\n",
       "      <td>2020-02-11</td>\n",
       "      <td>1</td>\n",
       "      <td>0</td>\n",
       "    </tr>\n",
       "    <tr>\n",
       "      <th>1</th>\n",
       "      <td>10-62167-2</td>\n",
       "      <td>HYDRAULIC PUMP</td>\n",
       "      <td>CFM56-7</td>\n",
       "      <td>Non-LLP</td>\n",
       "      <td>KILLICK AEROSPACE LIMITED</td>\n",
       "      <td>NE</td>\n",
       "      <td>2020-02-12</td>\n",
       "      <td>1</td>\n",
       "      <td>0</td>\n",
       "    </tr>\n",
       "    <tr>\n",
       "      <th>2</th>\n",
       "      <td>10-62167-2</td>\n",
       "      <td>HYDRAULIC PUMP</td>\n",
       "      <td>CFM56-7</td>\n",
       "      <td>Non-LLP</td>\n",
       "      <td>KILLICK AEROSPACE LIMITED</td>\n",
       "      <td>NE</td>\n",
       "      <td>2020-02-13</td>\n",
       "      <td>1</td>\n",
       "      <td>0</td>\n",
       "    </tr>\n",
       "    <tr>\n",
       "      <th>3</th>\n",
       "      <td>10-62167-2</td>\n",
       "      <td>HYDRAULIC PUMP</td>\n",
       "      <td>CFM56-7</td>\n",
       "      <td>Non-LLP</td>\n",
       "      <td>KILLICK AEROSPACE LIMITED</td>\n",
       "      <td>NE</td>\n",
       "      <td>2020-02-14</td>\n",
       "      <td>1</td>\n",
       "      <td>0</td>\n",
       "    </tr>\n",
       "    <tr>\n",
       "      <th>4</th>\n",
       "      <td>10-62167-2</td>\n",
       "      <td>HYDRAULIC PUMP</td>\n",
       "      <td>CFM56-7</td>\n",
       "      <td>Non-LLP</td>\n",
       "      <td>KILLICK AEROSPACE LIMITED</td>\n",
       "      <td>NE</td>\n",
       "      <td>2020-02-15</td>\n",
       "      <td>1</td>\n",
       "      <td>0</td>\n",
       "    </tr>\n",
       "  </tbody>\n",
       "</table>\n",
       "</div>"
      ],
      "text/plain": [
       "  Part_Number     Description Appl_Code LLP_Non_LLP  \\\n",
       "0  10-62167-2  HYDRAULIC PUMP   CFM56-7     Non-LLP   \n",
       "1  10-62167-2  HYDRAULIC PUMP   CFM56-7     Non-LLP   \n",
       "2  10-62167-2  HYDRAULIC PUMP   CFM56-7     Non-LLP   \n",
       "3  10-62167-2  HYDRAULIC PUMP   CFM56-7     Non-LLP   \n",
       "4  10-62167-2  HYDRAULIC PUMP   CFM56-7     Non-LLP   \n",
       "\n",
       "                      Vendor Condition         Dt Qty  Sale  \n",
       "0  KILLICK AEROSPACE LIMITED        NE 2020-02-11   1     0  \n",
       "1  KILLICK AEROSPACE LIMITED        NE 2020-02-12   1     0  \n",
       "2  KILLICK AEROSPACE LIMITED        NE 2020-02-13   1     0  \n",
       "3  KILLICK AEROSPACE LIMITED        NE 2020-02-14   1     0  \n",
       "4  KILLICK AEROSPACE LIMITED        NE 2020-02-15   1     0  "
      ]
     },
     "execution_count": 274,
     "metadata": {},
     "output_type": "execute_result"
    }
   ],
   "source": [
    "csv.head()"
   ]
  },
  {
   "cell_type": "code",
   "execution_count": 275,
   "metadata": {},
   "outputs": [],
   "source": [
    "#csv.to_csv(\"Stock.csv\")"
   ]
  },
  {
   "cell_type": "code",
   "execution_count": 276,
   "metadata": {},
   "outputs": [
    {
     "data": {
      "text/plain": [
       "(166000, 9)"
      ]
     },
     "execution_count": 276,
     "metadata": {},
     "output_type": "execute_result"
    }
   ],
   "source": [
    "csv.shape"
   ]
  },
  {
   "cell_type": "code",
   "execution_count": null,
   "metadata": {},
   "outputs": [],
   "source": []
  }
 ],
 "metadata": {
  "kernelspec": {
   "display_name": "Python 3",
   "language": "python",
   "name": "python3"
  },
  "language_info": {
   "codemirror_mode": {
    "name": "ipython",
    "version": 3
   },
   "file_extension": ".py",
   "mimetype": "text/x-python",
   "name": "python",
   "nbconvert_exporter": "python",
   "pygments_lexer": "ipython3",
   "version": "3.7.7"
  }
 },
 "nbformat": 4,
 "nbformat_minor": 2
}
